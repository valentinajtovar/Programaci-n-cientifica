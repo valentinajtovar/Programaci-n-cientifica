{
  "nbformat": 4,
  "nbformat_minor": 0,
  "metadata": {
    "colab": {
      "provenance": [],
      "include_colab_link": true
    },
    "kernelspec": {
      "name": "python3",
      "display_name": "Python 3"
    },
    "language_info": {
      "name": "python"
    }
  },
  "cells": [
    {
      "cell_type": "markdown",
      "metadata": {
        "id": "view-in-github",
        "colab_type": "text"
      },
      "source": [
        "<a href=\"https://colab.research.google.com/github/valentinajtovar/Programaci-n-cientifica/blob/main/Copia_de_Laboratorio_5.ipynb\" target=\"_parent\"><img src=\"https://colab.research.google.com/assets/colab-badge.svg\" alt=\"Open In Colab\"/></a>"
      ]
    },
    {
      "cell_type": "markdown",
      "source": [
        "# **Laboratorio 5: Planteamiento y solución de problemas de optimización**\n",
        "**Facultad de ingeniería, departamento de Ingeniería Biomédica, Universidad de los Andes**\\\n",
        "**IBIO-2440 Programación científica**"
      ],
      "metadata": {
        "id": "aiVyYM0UZ9Cg"
      }
    },
    {
      "cell_type": "markdown",
      "source": [
        "**Nombres de los integrantes**\n",
        "\n",
        "\n",
        "1.  Valentina Jimenez\n",
        "2.  Daniel Arias\n",
        "\n",
        "**Número del grupo**\n",
        "\n",
        "4\n"
      ],
      "metadata": {
        "id": "aTJOo3lnar5X"
      }
    },
    {
      "cell_type": "markdown",
      "source": [
        "Los problemas de optimización se consituyen de seis aspectos esenciales: variables de decisión, función objetivo, región factible, restricciones, criterios de optimalidad y métodos de solución tanto analíticos como numéricos. En general, un problema de optimización se resuelve mediante métodos numéricos debido a la complejidad matemática que conlleva modelar un problema real. La mayoría de estos métodos ya vienen implementados en librerías asociadas a lenguajes de programación, por lo que, en un principio, solucionar problemas de optimización genéricos consiste en usar una librería de optimización adecuada. En Python, existen múltiples librerias de optimización. Sin embargo, la más usada y desarrollada es SciPy, la cual no solo permite resolver problemas de optimización, sino también problemas de cálculo, procesaminto de señales e imágenes, álgebra lineal, entre muchos otros. \n",
        "\n",
        "El plantamiento de un problema de optimización se puede dividir en dos grandes ramas; problemas lineales y no lineales, los cuales también se conocen como: programación lineal y programación no lineal. En este sentido, este laboratorio consiste en plantear, analizar y solucionar un problema lineal. Para esto, es necesaria una breve introducción teórica. Un problema de optimización se modela matemáticamente mediante una función objetivo, la cual debe mapear un espacio de $n$ dimensiones y arrojar un valor escalar, es decir, sea $f:\\mathbb{R}^n \\rightarrow \\mathbb{R}$, luego, esta función de desea minimizar o maximizar dependiendo del contexto del problema. Encontrar un mínimo de una función, sea local o global, en general modela un problema real, debido a que esta función está sujeta a restricciones. Estas últimas se plantean con ecuaciones o inecuaciones adicionales asociadas a las variables independientes. En el caso de la programación lineal, se plantean mediante un sistema de ecuaciones o inecuaciones, de la forma:\n",
        "\n",
        "\\begin{align*}\n",
        "  Ax \\leq B\n",
        "\\end{align*}\n",
        "\n",
        "Donde $A$ es la matriz de coeficientes, $x$ el vector de variables y $B$ el vector de restricciones. Luego, un problema de programación lineal se plantea de la forma:\n",
        "\n",
        "\\begin{align*}\n",
        "  \\min_x f(x)\n",
        "\\end{align*}\n",
        "\n",
        "o\n",
        "\n",
        "\\begin{align*}\n",
        "  \\max_x f(x)\n",
        "\\end{align*}\n",
        "\n",
        "Sujeto a\n",
        "\n",
        "\\begin{align*}\n",
        "  Ax \\leq B\n",
        "\\end{align*}\n",
        "\n",
        "Además, en general, se define $x \\geq 0$"
      ],
      "metadata": {
        "id": "OambcLreVN_P"
      }
    },
    {
      "cell_type": "markdown",
      "source": [
        "# **Programación lineal**\n",
        "\n",
        "En programación lineal, debido a su simplicidad, existen varias formas de resolver un problema de optimización. En este caso se va a trabajar con dos, una con una interpretación gráfica y otra con el uso de la función *linprog* de la librería *optimize* de *spicy*. El problema es el siguiente:\n",
        "\n",
        "Un paciente ha sufrido un accidente que le impidió realizar ejercicio durante un año, por lo que, inevitablemente, subió de peso considerablemente. Este paciente acude al nutricionista con el objetivo de retomar el ejercicio y volver a su estado físico de antes. El paciente indica que tiene afición por tres tipos de ejercicio: montar bicicleta, ir al gimnasio y nadar, con los cuales puede consumir 300, 600 y 900 por hora calorías respectivamente. Dado que lleva mucho tiempo sin realizar ejercicio y aparte se ha recuperado de una lesión, debe cumplir ciertas restricciones:\n",
        "\n",
        "- No puede realizar más de 4 horas de ejercicio al día\n",
        "- El paciente tiene preferecia por el gimnasio, por lo que quiere gastar al menos un tercio del tiempo a la semana en este ejercicio\n",
        "- Se le recomienda montar bibicleta al menos una hora al día para acelerar la recuperación de la lesión\n",
        "\n",
        "Usted desea maximizar el consumo de calorias por semana.\n",
        "\n",
        "1. Plantee el problema de optimización como un problema de programación lineal\n"
      ],
      "metadata": {
        "id": "mXzu0AXFn90N"
      }
    },
    {
      "cell_type": "markdown",
      "source": [
        "***Función objetivo:*** *C(b,g,n) = 300b + 600g + 900n*\n",
        "\n",
        "***Variables de decisión:*** b(número de horas semanales de bicicleta), g(número de horas semanales de gimnansio),n(número de horas semanales de natación)\n",
        "\n",
        "***Restricciones con sus descripciones asociadas:*** \n",
        "\n",
        " n+b+g <= 28 (El número máximo de horas a la semana es 28.)\n",
        "\n",
        "  28/3 <=g (Número mínimo de horas semanales de gimnasio)\n",
        "\n",
        "  b>= 7 (Número mínimo de horas semanales de bicicleta)\n",
        "\n",
        "\n",
        "\n"
      ],
      "metadata": {
        "id": "4sZcmfUdPYvv"
      }
    },
    {
      "cell_type": "markdown",
      "source": [
        "1. Resuelva el problema usando la función *linprog* de la librería optimize con método simplex"
      ],
      "metadata": {
        "id": "xMp-7hZzQT-W"
      }
    },
    {
      "cell_type": "code",
      "source": [
        "from scipy import optimize\n",
        "##   cicla, gim, natacion\n",
        "c = [-300,-600,-900]\n",
        "A_ub = [[-1/28,-1/28,-1/28],[1,0,0],[0,1,0]]\n",
        "b_ub = [-1,7,28/3]\n",
        "print(optimize.linprog(c, A_ub, b_ub, method='simplex'))"
      ],
      "metadata": {
        "colab": {
          "base_uri": "https://localhost:8080/"
        },
        "id": "t-qdC2zMDPuy",
        "outputId": "c6a3451c-6482-42af-be18-888cbc4cb613"
      },
      "execution_count": null,
      "outputs": [
        {
          "output_type": "stream",
          "name": "stdout",
          "text": [
            "     con: array([], dtype=float64)\n",
            "     fun: -18200.0\n",
            " message: 'Optimization failed. The problem appears to be unbounded.'\n",
            "     nit: 3\n",
            "   slack: array([0., 0., 0.])\n",
            "  status: 3\n",
            " success: False\n",
            "       x: array([ 7.        ,  9.33333333, 11.66666667])\n"
          ]
        }
      ]
    },
    {
      "cell_type": "markdown",
      "source": [
        "**La solución indica: 7 horas de bicicleta, 9.3 horas de gimnasio y 11.6 horas de natación**"
      ],
      "metadata": {
        "id": "21l-FfD0FbJc"
      }
    },
    {
      "cell_type": "markdown",
      "source": [
        "2. Resuelva el problema pero ahora usando la función *minimize* de la librería *optimize*. Esta función requiere una condición inicial, escójala de forma que cumpla las restricciones.\n",
        "\n"
      ],
      "metadata": {
        "id": "WFR808tlAwMZ"
      }
    },
    {
      "cell_type": "code",
      "source": [
        "import numpy as np\n",
        "from scipy.optimize import minimize\n",
        "\n",
        "fun = lambda x: -(x[0]*300)-(x[1]*600)-(x[2]*900)\n",
        "data = [1,2.3,0.6]\n",
        "cons = ({'type': 'eq', 'fun': lambda x: - x[0] - x[1] - x[2] + 28 })\n",
        "bnds = ((7, None), (28/3, None), (0, None))\n",
        "minimize(fun ,x0=data, bounds = bnds, constraints = cons)"
      ],
      "metadata": {
        "id": "nmV-dXyiJJD1",
        "colab": {
          "base_uri": "https://localhost:8080/"
        },
        "outputId": "8de4ece2-6ead-453a-d696-54efec77fd83"
      },
      "execution_count": null,
      "outputs": [
        {
          "output_type": "execute_result",
          "data": {
            "text/plain": [
              "     fun: -18200.00002119375\n",
              "     jac: array([-300., -600., -900.])\n",
              " message: 'Optimization terminated successfully'\n",
              "    nfev: 9\n",
              "     nit: 3\n",
              "    njev: 2\n",
              "  status: 0\n",
              " success: True\n",
              "       x: array([ 7.        ,  9.33333333, 11.66666669])"
            ]
          },
          "metadata": {},
          "execution_count": 17
        }
      ]
    },
    {
      "cell_type": "markdown",
      "source": [
        "3. Verifique que la solución cumple las restricciones"
      ],
      "metadata": {
        "id": "lJpZpf0JDWgc"
      }
    },
    {
      "cell_type": "code",
      "source": [
        "from scipy import optimize\n",
        "##   cicla, gim, natacion\n",
        "c = [-300,-600,-900]\n",
        "A_ub = [[-1/28,-1/28,-1/28],[1,0,0],[0,1,0]]\n",
        "b_ub = [-1,7,28/3]\n",
        "print(optimize.linprog(c, A_ub, b_ub, method='simplex'))\n",
        "\n",
        "import numpy as np\n",
        "from scipy.optimize import minimize\n",
        "\n",
        "fun = lambda x: -(x[0]*300)-(x[1]*600)-(x[2]*900)\n",
        "data = [1,2.3,0.6]\n",
        "cons = ({'type': 'eq', 'fun': lambda x: - x[0] - x[1] - x[2] + 28 })\n",
        "bnds = ((7, None), (28/3, None), (0, None))\n",
        "minimize(fun ,x0=data, bounds = bnds, constraints = cons)"
      ],
      "metadata": {
        "id": "sovlHpd2DotA",
        "colab": {
          "base_uri": "https://localhost:8080/"
        },
        "outputId": "73f835bd-5dd1-46c3-8a34-ed2f91e128ef"
      },
      "execution_count": null,
      "outputs": [
        {
          "output_type": "stream",
          "name": "stdout",
          "text": [
            "     con: array([], dtype=float64)\n",
            "     fun: -18200.0\n",
            " message: 'Optimization failed. The problem appears to be unbounded.'\n",
            "     nit: 3\n",
            "   slack: array([0., 0., 0.])\n",
            "  status: 3\n",
            " success: False\n",
            "       x: array([ 7.        ,  9.33333333, 11.66666667])\n"
          ]
        },
        {
          "output_type": "execute_result",
          "data": {
            "text/plain": [
              "     fun: -18200.00002119375\n",
              "     jac: array([-300., -600., -900.])\n",
              " message: 'Optimization terminated successfully'\n",
              "    nfev: 9\n",
              "     nit: 3\n",
              "    njev: 2\n",
              "  status: 0\n",
              " success: True\n",
              "       x: array([ 7.        ,  9.33333333, 11.66666669])"
            ]
          },
          "metadata": {},
          "execution_count": 1
        }
      ]
    },
    {
      "cell_type": "markdown",
      "source": [
        "4. Encuentre los demás puntos que cumplen las restricciones.\n",
        "\n",
        "Ayuda: el número de puntos que cumplen las restriciones se calcula mediante la fórmula:\n",
        "\n",
        "\\begin{align*}\n",
        "  \\frac{n!}{m!(n-m)!}\n",
        "\\end{align*}\n",
        "\n",
        "Donde $n$ es el número de variables y $m$ el número de restricciones"
      ],
      "metadata": {
        "id": "HBwUjRjNDpGT"
      }
    },
    {
      "cell_type": "code",
      "source": [
        "print(\"Número de soluciones: \", np.math.factorial(3)/((np.math.factorial(3)*(np.math.factorial(0)))))"
      ],
      "metadata": {
        "id": "Fl_E4d65DyXA",
        "colab": {
          "base_uri": "https://localhost:8080/"
        },
        "outputId": "9cfb5c2e-4334-404c-aa67-15e4252481b5"
      },
      "execution_count": null,
      "outputs": [
        {
          "output_type": "stream",
          "name": "stdout",
          "text": [
            "Número de soluciones:  1.0\n"
          ]
        }
      ]
    },
    {
      "cell_type": "markdown",
      "source": [
        "5. Evalue la función objetivo en los puntos hallados y verifique que el encontrado mediante *linprog* y *minimize* sí es el óptimo"
      ],
      "metadata": {
        "id": "-PmIcBNCDzM4"
      }
    },
    {
      "cell_type": "code",
      "source": [
        "from scipy import optimize\n",
        "##   cicla, gim, natacion\n",
        "c = [-300,-600,-900]\n",
        "A_ub = [[-1/28,-1/28,-1/28],[1,0,0],[0,1,0]]\n",
        "b_ub = [-1,7,28/3]\n",
        "print(optimize.linprog(c, A_ub, b_ub, method='simplex'))\n",
        "\n",
        "import numpy as np\n",
        "from scipy.optimize import minimize\n",
        "\n",
        "fun = lambda x: -(x[0]*300)-(x[1]*600)-(x[2]*900)\n",
        "data = [1,2.3,0.6]\n",
        "cons = ({'type': 'eq', 'fun': lambda x: - x[0] - x[1] - x[2] + 28 })\n",
        "bnds = ((7, None), (28/3, None), (0, None))\n",
        "minimize(fun ,x0=data, bounds = bnds, constraints = cons)"
      ],
      "metadata": {
        "id": "VQVr9-GIFlFn",
        "colab": {
          "base_uri": "https://localhost:8080/"
        },
        "outputId": "3b925959-bcd2-4409-bc12-463a8ec1254b"
      },
      "execution_count": null,
      "outputs": [
        {
          "output_type": "stream",
          "name": "stdout",
          "text": [
            "     con: array([], dtype=float64)\n",
            "     fun: -18200.0\n",
            " message: 'Optimization failed. The problem appears to be unbounded.'\n",
            "     nit: 3\n",
            "   slack: array([0., 0., 0.])\n",
            "  status: 3\n",
            " success: False\n",
            "       x: array([ 7.        ,  9.33333333, 11.66666667])\n"
          ]
        },
        {
          "output_type": "execute_result",
          "data": {
            "text/plain": [
              "     fun: -18200.00002119375\n",
              "     jac: array([-300., -600., -900.])\n",
              " message: 'Optimization terminated successfully'\n",
              "    nfev: 9\n",
              "     nit: 3\n",
              "    njev: 2\n",
              "  status: 0\n",
              " success: True\n",
              "       x: array([ 7.        ,  9.33333333, 11.66666669])"
            ]
          },
          "metadata": {},
          "execution_count": 2
        }
      ]
    },
    {
      "cell_type": "markdown",
      "source": [
        "6. Compare el método por *linprog* y *minimize*. Verifique el número de iteraciones, ¿cuál es el más preciso?, ¿cuál es más eficiente?"
      ],
      "metadata": {
        "id": "nCk19LSXGL6o"
      }
    },
    {
      "cell_type": "code",
      "source": [
        "from scipy import optimize\n",
        "##   cicla, gim, natacion\n",
        "c = [-300,-600,-900]\n",
        "A_ub = [[-1/28,-1/28,-1/28],[1,0,0],[0,1,0]]\n",
        "b_ub = [-1,7,28/3]\n",
        "print(optimize.linprog(c, A_ub, b_ub, method='simplex'))\n",
        "\n",
        "import numpy as np\n",
        "from scipy.optimize import minimize\n",
        "\n",
        "fun = lambda x: -(x[0]*300)-(x[1]*600)-(x[2]*900)\n",
        "data = [1,2.3,0.6]\n",
        "cons = ({'type': 'eq', 'fun': lambda x: - x[0] - x[1] - x[2] + 28 })\n",
        "bnds = ((7, None), (28/3, None), (0, None))\n",
        "minimize(fun ,x0=data, bounds = bnds, constraints = cons)\n",
        "\n",
        "#cumplen el mismo numero de iteraciones (3)"
      ],
      "metadata": {
        "id": "f23_NFaXGq5X",
        "colab": {
          "base_uri": "https://localhost:8080/"
        },
        "outputId": "c433d665-803b-40d6-ac6b-d4927a3f39d5"
      },
      "execution_count": null,
      "outputs": [
        {
          "output_type": "stream",
          "name": "stdout",
          "text": [
            "     con: array([], dtype=float64)\n",
            "     fun: -18200.0\n",
            " message: 'Optimization failed. The problem appears to be unbounded.'\n",
            "     nit: 3\n",
            "   slack: array([0., 0., 0.])\n",
            "  status: 3\n",
            " success: False\n",
            "       x: array([ 7.        ,  9.33333333, 11.66666667])\n"
          ]
        },
        {
          "output_type": "execute_result",
          "data": {
            "text/plain": [
              "     fun: -18200.00002119375\n",
              "     jac: array([-300., -600., -900.])\n",
              " message: 'Optimization terminated successfully'\n",
              "    nfev: 9\n",
              "     nit: 3\n",
              "    njev: 2\n",
              "  status: 0\n",
              " success: True\n",
              "       x: array([ 7.        ,  9.33333333, 11.66666669])"
            ]
          },
          "metadata": {},
          "execution_count": 3
        }
      ]
    }
  ]
}